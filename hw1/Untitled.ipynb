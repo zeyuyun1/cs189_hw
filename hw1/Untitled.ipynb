{
 "cells": [
  {
   "cell_type": "markdown",
   "metadata": {},
   "source": [
    "CS189_HW1"
   ]
  },
  {
   "cell_type": "markdown",
   "metadata": {},
   "source": [
    "Setup"
   ]
  },
  {
   "cell_type": "code",
   "execution_count": 1,
   "metadata": {},
   "outputs": [
    {
     "name": "stdout",
     "output_type": "stream",
     "text": [
      "\n",
      "loaded mnist data!\n",
      "test_data (10000, 784)\n",
      "training_data (60000, 784)\n",
      "training_labels (60000, 1)\n",
      "\n",
      "loaded spam data!\n",
      "test_data (5857, 32)\n",
      "training_data (5172, 32)\n",
      "training_labels (5172, 1)\n",
      "\n",
      "loaded cifar10 data!\n",
      "test_data (10000, 3072)\n",
      "training_data (50000, 3072)\n",
      "training_labels (50000, 1)\n"
     ]
    }
   ],
   "source": [
    "import sys\n",
    "if sys.version_info[0] < 3:\n",
    "    raise Exception(\"Python 3 not detected.\")\n",
    "import numpy as np\n",
    "import matplotlib.pyplot as plt\n",
    "from sklearn.metrics import accuracy_score\n",
    "from sklearn import svm\n",
    "from scipy import io\n",
    "mnist_data = {}\n",
    "spam_data = {}\n",
    "cifar10_data = {}\n",
    "all_data = {\"mnist\":mnist_data, \"spam\":spam_data, \"cifar10\":cifar10_data}\n",
    "for data_name in [\"mnist\", \"spam\", \"cifar10\"]:\n",
    "    data = io.loadmat(\"data/%s_data.mat\" % data_name)\n",
    "    print(\"\\nloaded %s data!\" % data_name)\n",
    "    fields = \"test_data\", \"training_data\", \"training_labels\"\n",
    "    for field in fields:\n",
    "        all_data[data_name][field] = data[field]\n",
    "        print(field, data[field].shape)\n",
    "\n"
   ]
  },
  {
   "cell_type": "markdown",
   "metadata": {},
   "source": [
    "Data seperation, nmist"
   ]
  },
  {
   "cell_type": "code",
   "execution_count": 2,
   "metadata": {},
   "outputs": [],
   "source": [
    "def partition(dataset,split):\n",
    "    np.random.shuffle(dataset)\n",
    "    validation_set = dataset[:split,:]\n",
    "    training_set = dataset[split:,:]\n",
    "    validation_set_sample = validation_set[:,:-1]\n",
    "    validation_set_label = validation_set[:,-1:].ravel()\n",
    "    training_set_sample = training_set[:,:-1]\n",
    "    training_set_label = training_set[:,-1:].ravel()\n",
    "    return validation_set_sample,validation_set_label,training_set_sample,training_set_label"
   ]
  },
  {
   "cell_type": "code",
   "execution_count": 3,
   "metadata": {},
   "outputs": [
    {
     "name": "stdout",
     "output_type": "stream",
     "text": [
      "(10000, 784)\n",
      "(10000, 784)\n"
     ]
    }
   ],
   "source": [
    "nmist_test_set = mnist_data[\"test_data\"]\n",
    "print(nmist_test_set.shape)\n",
    "nmist_dataset = np.concatenate((mnist_data[\"training_data\"],mnist_data[\"training_labels\"]),axis=1)\n",
    "nmist_validation_set_sample,nmist_validation_set_label,nmist_training_set_sample,nmist_training_set_label = partition(nmist_dataset,10000)\n",
    "print(nmist_validation_set_sample.shape)"
   ]
  },
  {
   "cell_type": "markdown",
   "metadata": {},
   "source": [
    "Data seperation, spam"
   ]
  },
  {
   "cell_type": "code",
   "execution_count": 20,
   "metadata": {},
   "outputs": [
    {
     "name": "stdout",
     "output_type": "stream",
     "text": [
      "(5172, 33)\n",
      "(5172, 32)\n",
      "(1034, 32)\n",
      "(1034,)\n",
      "(4138, 32)\n",
      "(4138,)\n"
     ]
    }
   ],
   "source": [
    "spam_test_set = mnist_data[\"test_data\"]\n",
    "spam_dataset = np.concatenate((spam_data[\"training_data\"],spam_data[\"training_labels\"]),axis=1)\n",
    "split_amount = int(spam_data[\"training_data\"].shape[0]*0.2)\n",
    "spam_validation_set_sample,spam_validation_set_label,spam_training_set_sample,spam_training_set_label = partition(spam_dataset,split_amount)\n",
    "spam_training_set_label\n",
    "print(spam_data[\"training_data\"].shape)\n",
    "\n",
    "print(spam_validation_set_sample.shape)\n",
    "print(spam_validation_set_label.shape)\n",
    "print(spam_training_set_sample.shape)\n",
    "print(spam_training_set_label.shape)"
   ]
  },
  {
   "cell_type": "markdown",
   "metadata": {},
   "source": [
    "data seperation, cifar10"
   ]
  },
  {
   "cell_type": "code",
   "execution_count": 5,
   "metadata": {},
   "outputs": [
    {
     "data": {
      "text/plain": [
       "array([4, 9, 1, ..., 7, 3, 8])"
      ]
     },
     "execution_count": 5,
     "metadata": {},
     "output_type": "execute_result"
    }
   ],
   "source": [
    "cifar10_test_set = cifar10_data[\"test_data\"]\n",
    "cifar10_dataset = np.concatenate((cifar10_data[\"training_data\"],cifar10_data[\"training_labels\"]),axis=1)\n",
    "cifar10_validation_set_sample,cifar10_validation_set_label,cifar10_training_set_sample,cifar10_training_set_label = partition(cifar10_dataset,5000)\n",
    "cifar10_training_set_label"
   ]
  },
  {
   "cell_type": "markdown",
   "metadata": {},
   "source": [
    "SVM"
   ]
  },
  {
   "cell_type": "markdown",
   "metadata": {},
   "source": [
    "Mnist"
   ]
  },
  {
   "cell_type": "code",
   "execution_count": 6,
   "metadata": {},
   "outputs": [],
   "source": [
    "def get_accuracy(model,size,train_sample,train_label,test_X,test_Y):\n",
    "    train_X =train_sample[:size,]\n",
    "    train_Y =train_label[:size]\n",
    "    model.fit(train_X, train_Y)\n",
    "    return accuracy_score(model.predict(test_X),test_Y)\n",
    "\n",
    "\n",
    "\n",
    "step_nmist = [100,200,500,1000,2000,5000,10000]\n",
    "model_nmist = svm.SVC(kernel='linear',gamma='auto',cache_size=3000)\n",
    "error_rate_nmist = [1-get_accuracy(model_nmist,i,nmist_training_set_sample,nmist_training_set_label,nmist_validation_set_sample,\\\n",
    "                             nmist_validation_set_label) for i in step_nmist]##error rate\n",
    "\n",
    "# print(\"Accuracy: {}%\".format(accuracy_score(model.predict(nmist_validation_set_sample),nmist_validation_set_label)*100))"
   ]
  },
  {
   "cell_type": "code",
   "execution_count": 7,
   "metadata": {},
   "outputs": [
    {
     "data": {
      "text/plain": [
       "[<matplotlib.lines.Line2D at 0x10438d6a0>]"
      ]
     },
     "execution_count": 7,
     "metadata": {},
     "output_type": "execute_result"
    },
    {
     "data": {
      "image/png": "[encoded data removed]",
      "text/plain": [
       "<Figure size 432x288 with 1 Axes>"
      ]
     },
     "metadata": {
      "needs_background": "light"
     },
     "output_type": "display_data"
    }
   ],
   "source": [
    "plt.plot(step_nmist,error_rate_nmist,'ro')"
   ]
  },
  {
   "cell_type": "code",
   "execution_count": 62,
   "metadata": {},
   "outputs": [],
   "source": [
    "step_spam = [100,200,500,1000,2000,len(spam_training_set_sample)]\n",
    "model_spam = svm.SVC(kernel='poly',gamma='auto',cache_size=3000)\n",
    "error_rate_spam = [1-get_accuracy(model_spam,i,spam_training_set_sample,spam_training_set_label,spam_validation_set_sample,\\\n",
    "                             spam_validation_set_label) for i in step_spam]##error rate"
   ]
  },
  {
   "cell_type": "code",
   "execution_count": 63,
   "metadata": {},
   "outputs": [
    {
     "data": {
      "text/plain": [
       "[<matplotlib.lines.Line2D at 0x1a333eaf28>]"
      ]
     },
     "execution_count": 63,
     "metadata": {},
     "output_type": "execute_result"
    },
    {
     "data": {
      "image/png": "[encoded data removed]",
      "text/plain": [
       "<Figure size 432x288 with 1 Axes>"
      ]
     },
     "metadata": {
      "needs_background": "light"
     },
     "output_type": "display_data"
    }
   ],
   "source": [
    "plt.plot(step_spam,error_rate_spam,'ro')"
   ]
  },
  {
   "cell_type": "code",
   "execution_count": 28,
   "metadata": {},
   "outputs": [
    {
     "ename": "KeyboardInterrupt",
     "evalue": "",
     "output_type": "error",
     "traceback": [
      "\u001b[0;31m---------------------------------------------------------------------------\u001b[0m",
      "\u001b[0;31mKeyboardInterrupt\u001b[0m                         Traceback (most recent call last)",
      "\u001b[0;32m<ipython-input-28-000b8c2693fd>\u001b[0m in \u001b[0;36m<module>\u001b[0;34m\u001b[0m\n\u001b[1;32m      2\u001b[0m \u001b[0mmodel_cifar10\u001b[0m \u001b[0;34m=\u001b[0m \u001b[0msvm\u001b[0m\u001b[0;34m.\u001b[0m\u001b[0mSVC\u001b[0m\u001b[0;34m(\u001b[0m\u001b[0mkernel\u001b[0m\u001b[0;34m=\u001b[0m\u001b[0;34m'poly'\u001b[0m\u001b[0;34m,\u001b[0m\u001b[0mgamma\u001b[0m\u001b[0;34m=\u001b[0m\u001b[0;34m'auto'\u001b[0m\u001b[0;34m,\u001b[0m\u001b[0mcache_size\u001b[0m\u001b[0;34m=\u001b[0m\u001b[0;36m3000\u001b[0m\u001b[0;34m)\u001b[0m\u001b[0;34m\u001b[0m\u001b[0;34m\u001b[0m\u001b[0m\n\u001b[1;32m      3\u001b[0m error_rate_cifar10 = [1-get_accuracy(model_cifar10,i,cifar10_training_set_sample,cifar10_training_set_label,cifar10_validation_set_sample,\\\n\u001b[0;32m----> 4\u001b[0;31m                              cifar10_validation_set_label) for i in step_cifar10]##error rate\n\u001b[0m",
      "\u001b[0;32m<ipython-input-28-000b8c2693fd>\u001b[0m in \u001b[0;36m<listcomp>\u001b[0;34m(.0)\u001b[0m\n\u001b[1;32m      2\u001b[0m \u001b[0mmodel_cifar10\u001b[0m \u001b[0;34m=\u001b[0m \u001b[0msvm\u001b[0m\u001b[0;34m.\u001b[0m\u001b[0mSVC\u001b[0m\u001b[0;34m(\u001b[0m\u001b[0mkernel\u001b[0m\u001b[0;34m=\u001b[0m\u001b[0;34m'poly'\u001b[0m\u001b[0;34m,\u001b[0m\u001b[0mgamma\u001b[0m\u001b[0;34m=\u001b[0m\u001b[0;34m'auto'\u001b[0m\u001b[0;34m,\u001b[0m\u001b[0mcache_size\u001b[0m\u001b[0;34m=\u001b[0m\u001b[0;36m3000\u001b[0m\u001b[0;34m)\u001b[0m\u001b[0;34m\u001b[0m\u001b[0;34m\u001b[0m\u001b[0m\n\u001b[1;32m      3\u001b[0m error_rate_cifar10 = [1-get_accuracy(model_cifar10,i,cifar10_training_set_sample,cifar10_training_set_label,cifar10_validation_set_sample,\\\n\u001b[0;32m----> 4\u001b[0;31m                              cifar10_validation_set_label) for i in step_cifar10]##error rate\n\u001b[0m",
      "\u001b[0;32m<ipython-input-14-e9246ea2be2b>\u001b[0m in \u001b[0;36mget_accuracy\u001b[0;34m(model, size, train_sample, train_label, test_X, test_Y)\u001b[0m\n\u001b[1;32m      3\u001b[0m     \u001b[0mtrain_Y\u001b[0m \u001b[0;34m=\u001b[0m\u001b[0mtrain_label\u001b[0m\u001b[0;34m[\u001b[0m\u001b[0;34m:\u001b[0m\u001b[0msize\u001b[0m\u001b[0;34m]\u001b[0m\u001b[0;34m\u001b[0m\u001b[0;34m\u001b[0m\u001b[0m\n\u001b[1;32m      4\u001b[0m     \u001b[0mmodel\u001b[0m\u001b[0;34m.\u001b[0m\u001b[0mfit\u001b[0m\u001b[0;34m(\u001b[0m\u001b[0mtrain_X\u001b[0m\u001b[0;34m,\u001b[0m \u001b[0mtrain_Y\u001b[0m\u001b[0;34m)\u001b[0m\u001b[0;34m\u001b[0m\u001b[0;34m\u001b[0m\u001b[0m\n\u001b[0;32m----> 5\u001b[0;31m     \u001b[0;32mreturn\u001b[0m \u001b[0maccuracy_score\u001b[0m\u001b[0;34m(\u001b[0m\u001b[0mmodel\u001b[0m\u001b[0;34m.\u001b[0m\u001b[0mpredict\u001b[0m\u001b[0;34m(\u001b[0m\u001b[0mtest_X\u001b[0m\u001b[0;34m)\u001b[0m\u001b[0;34m,\u001b[0m\u001b[0mtest_Y\u001b[0m\u001b[0;34m)\u001b[0m\u001b[0;34m\u001b[0m\u001b[0;34m\u001b[0m\u001b[0m\n\u001b[0m\u001b[1;32m      6\u001b[0m \u001b[0;34m\u001b[0m\u001b[0m\n\u001b[1;32m      7\u001b[0m \u001b[0;34m\u001b[0m\u001b[0m\n",
      "\u001b[0;32m//anaconda3/lib/python3.7/site-packages/sklearn/svm/base.py\u001b[0m in \u001b[0;36mpredict\u001b[0;34m(self, X)\u001b[0m\n\u001b[1;32m    572\u001b[0m             \u001b[0mClass\u001b[0m \u001b[0mlabels\u001b[0m \u001b[0;32mfor\u001b[0m \u001b[0msamples\u001b[0m \u001b[0;32min\u001b[0m \u001b[0mX\u001b[0m\u001b[0;34m.\u001b[0m\u001b[0;34m\u001b[0m\u001b[0;34m\u001b[0m\u001b[0m\n\u001b[1;32m    573\u001b[0m         \"\"\"\n\u001b[0;32m--> 574\u001b[0;31m         \u001b[0my\u001b[0m \u001b[0;34m=\u001b[0m \u001b[0msuper\u001b[0m\u001b[0;34m(\u001b[0m\u001b[0;34m)\u001b[0m\u001b[0;34m.\u001b[0m\u001b[0mpredict\u001b[0m\u001b[0;34m(\u001b[0m\u001b[0mX\u001b[0m\u001b[0;34m)\u001b[0m\u001b[0;34m\u001b[0m\u001b[0;34m\u001b[0m\u001b[0m\n\u001b[0m\u001b[1;32m    575\u001b[0m         \u001b[0;32mreturn\u001b[0m \u001b[0mself\u001b[0m\u001b[0;34m.\u001b[0m\u001b[0mclasses_\u001b[0m\u001b[0;34m.\u001b[0m\u001b[0mtake\u001b[0m\u001b[0;34m(\u001b[0m\u001b[0mnp\u001b[0m\u001b[0;34m.\u001b[0m\u001b[0masarray\u001b[0m\u001b[0;34m(\u001b[0m\u001b[0my\u001b[0m\u001b[0;34m,\u001b[0m \u001b[0mdtype\u001b[0m\u001b[0;34m=\u001b[0m\u001b[0mnp\u001b[0m\u001b[0;34m.\u001b[0m\u001b[0mintp\u001b[0m\u001b[0;34m)\u001b[0m\u001b[0;34m)\u001b[0m\u001b[0;34m\u001b[0m\u001b[0;34m\u001b[0m\u001b[0m\n\u001b[1;32m    576\u001b[0m \u001b[0;34m\u001b[0m\u001b[0m\n",
      "\u001b[0;32m//anaconda3/lib/python3.7/site-packages/sklearn/svm/base.py\u001b[0m in \u001b[0;36mpredict\u001b[0;34m(self, X)\u001b[0m\n\u001b[1;32m    322\u001b[0m         \u001b[0mX\u001b[0m \u001b[0;34m=\u001b[0m \u001b[0mself\u001b[0m\u001b[0;34m.\u001b[0m\u001b[0m_validate_for_predict\u001b[0m\u001b[0;34m(\u001b[0m\u001b[0mX\u001b[0m\u001b[0;34m)\u001b[0m\u001b[0;34m\u001b[0m\u001b[0;34m\u001b[0m\u001b[0m\n\u001b[1;32m    323\u001b[0m         \u001b[0mpredict\u001b[0m \u001b[0;34m=\u001b[0m \u001b[0mself\u001b[0m\u001b[0;34m.\u001b[0m\u001b[0m_sparse_predict\u001b[0m \u001b[0;32mif\u001b[0m \u001b[0mself\u001b[0m\u001b[0;34m.\u001b[0m\u001b[0m_sparse\u001b[0m \u001b[0;32melse\u001b[0m \u001b[0mself\u001b[0m\u001b[0;34m.\u001b[0m\u001b[0m_dense_predict\u001b[0m\u001b[0;34m\u001b[0m\u001b[0;34m\u001b[0m\u001b[0m\n\u001b[0;32m--> 324\u001b[0;31m         \u001b[0;32mreturn\u001b[0m \u001b[0mpredict\u001b[0m\u001b[0;34m(\u001b[0m\u001b[0mX\u001b[0m\u001b[0;34m)\u001b[0m\u001b[0;34m\u001b[0m\u001b[0;34m\u001b[0m\u001b[0m\n\u001b[0m\u001b[1;32m    325\u001b[0m \u001b[0;34m\u001b[0m\u001b[0m\n\u001b[1;32m    326\u001b[0m     \u001b[0;32mdef\u001b[0m \u001b[0m_dense_predict\u001b[0m\u001b[0;34m(\u001b[0m\u001b[0mself\u001b[0m\u001b[0;34m,\u001b[0m \u001b[0mX\u001b[0m\u001b[0;34m)\u001b[0m\u001b[0;34m:\u001b[0m\u001b[0;34m\u001b[0m\u001b[0;34m\u001b[0m\u001b[0m\n",
      "\u001b[0;32m//anaconda3/lib/python3.7/site-packages/sklearn/svm/base.py\u001b[0m in \u001b[0;36m_dense_predict\u001b[0;34m(self, X)\u001b[0m\n\u001b[1;32m    344\u001b[0m             \u001b[0mself\u001b[0m\u001b[0;34m.\u001b[0m\u001b[0mprobA_\u001b[0m\u001b[0;34m,\u001b[0m \u001b[0mself\u001b[0m\u001b[0;34m.\u001b[0m\u001b[0mprobB_\u001b[0m\u001b[0;34m,\u001b[0m \u001b[0msvm_type\u001b[0m\u001b[0;34m=\u001b[0m\u001b[0msvm_type\u001b[0m\u001b[0;34m,\u001b[0m \u001b[0mkernel\u001b[0m\u001b[0;34m=\u001b[0m\u001b[0mkernel\u001b[0m\u001b[0;34m,\u001b[0m\u001b[0;34m\u001b[0m\u001b[0;34m\u001b[0m\u001b[0m\n\u001b[1;32m    345\u001b[0m             \u001b[0mdegree\u001b[0m\u001b[0;34m=\u001b[0m\u001b[0mself\u001b[0m\u001b[0;34m.\u001b[0m\u001b[0mdegree\u001b[0m\u001b[0;34m,\u001b[0m \u001b[0mcoef0\u001b[0m\u001b[0;34m=\u001b[0m\u001b[0mself\u001b[0m\u001b[0;34m.\u001b[0m\u001b[0mcoef0\u001b[0m\u001b[0;34m,\u001b[0m \u001b[0mgamma\u001b[0m\u001b[0;34m=\u001b[0m\u001b[0mself\u001b[0m\u001b[0;34m.\u001b[0m\u001b[0m_gamma\u001b[0m\u001b[0;34m,\u001b[0m\u001b[0;34m\u001b[0m\u001b[0;34m\u001b[0m\u001b[0m\n\u001b[0;32m--> 346\u001b[0;31m             cache_size=self.cache_size)\n\u001b[0m\u001b[1;32m    347\u001b[0m \u001b[0;34m\u001b[0m\u001b[0m\n\u001b[1;32m    348\u001b[0m     \u001b[0;32mdef\u001b[0m \u001b[0m_sparse_predict\u001b[0m\u001b[0;34m(\u001b[0m\u001b[0mself\u001b[0m\u001b[0;34m,\u001b[0m \u001b[0mX\u001b[0m\u001b[0;34m)\u001b[0m\u001b[0;34m:\u001b[0m\u001b[0;34m\u001b[0m\u001b[0;34m\u001b[0m\u001b[0m\n",
      "\u001b[0;31mKeyboardInterrupt\u001b[0m: "
     ]
    }
   ],
   "source": [
    "step_cifar10 = [100,200,500,1000,2000,5000]\n",
    "model_cifar10 = svm.SVC(kernel='poly',gamma='auto',cache_size=3000)\n",
    "error_rate_cifar10 = [1-get_accuracy(model_cifar10,i,cifar10_training_set_sample,cifar10_training_set_label,cifar10_validation_set_sample,\\\n",
    "                             cifar10_validation_set_label) for i in step_cifar10]##error rate"
   ]
  },
  {
   "cell_type": "code",
   "execution_count": null,
   "metadata": {},
   "outputs": [],
   "source": [
    "plt.plot(step,error_rate_3,'ro')\n"
   ]
  },
  {
   "cell_type": "code",
   "execution_count": 29,
   "metadata": {},
   "outputs": [
    {
     "name": "stdout",
     "output_type": "stream",
     "text": [
      "[SVC(C=1e-10, cache_size=3000, class_weight=None, coef0=0.0,\n",
      "    decision_function_shape='ovr', degree=3, gamma='auto', kernel='linear',\n",
      "    max_iter=-1, probability=False, random_state=None, shrinking=True,\n",
      "    tol=0.001, verbose=False), SVC(C=1.0000000000000001e-07, cache_size=3000, class_weight=None, coef0=0.0,\n",
      "    decision_function_shape='ovr', degree=3, gamma='auto', kernel='linear',\n",
      "    max_iter=-1, probability=False, random_state=None, shrinking=True,\n",
      "    tol=0.001, verbose=False), SVC(C=0.0001, cache_size=3000, class_weight=None, coef0=0.0,\n",
      "    decision_function_shape='ovr', degree=3, gamma='auto', kernel='linear',\n",
      "    max_iter=-1, probability=False, random_state=None, shrinking=True,\n",
      "    tol=0.001, verbose=False), SVC(C=0.1, cache_size=3000, class_weight=None, coef0=0.0,\n",
      "    decision_function_shape='ovr', degree=3, gamma='auto', kernel='linear',\n",
      "    max_iter=-1, probability=False, random_state=None, shrinking=True,\n",
      "    tol=0.001, verbose=False)]\n",
      "[0.1124, 0.9229, 0.9052, 0.9049]\n"
     ]
    }
   ],
   "source": [
    "ls = []\n",
    "i = 1E-10\n",
    "while i<1:\n",
    "    ls = ls + [i]\n",
    "    i = i*1000\n",
    "model_ls = [svm.SVC(kernel='linear',gamma='auto',cache_size=3000,C=i) for i in ls]\n",
    "print(model_ls)\n",
    "accuracy_ls = [get_accuracy(i,10000,nmist_training_set_sample,nmist_training_set_label,nmist_validation_set_sample,\\\n",
    "                             nmist_validation_set_label) for i in model_ls]\n",
    "print(accuracy_ls)"
   ]
  },
  {
   "cell_type": "code",
   "execution_count": 34,
   "metadata": {},
   "outputs": [
    {
     "name": "stdout",
     "output_type": "stream",
     "text": [
      "[SVC(C=1e-08, cache_size=3000, class_weight=None, coef0=0.0,\n",
      "    decision_function_shape='ovr', degree=3, gamma='auto', kernel='linear',\n",
      "    max_iter=-1, probability=False, random_state=None, shrinking=True,\n",
      "    tol=0.001, verbose=False), SVC(C=1e-06, cache_size=3000, class_weight=None, coef0=0.0,\n",
      "    decision_function_shape='ovr', degree=3, gamma='auto', kernel='linear',\n",
      "    max_iter=-1, probability=False, random_state=None, shrinking=True,\n",
      "    tol=0.001, verbose=False), SVC(C=9.999999999999999e-05, cache_size=3000, class_weight=None, coef0=0.0,\n",
      "    decision_function_shape='ovr', degree=3, gamma='auto', kernel='linear',\n",
      "    max_iter=-1, probability=False, random_state=None, shrinking=True,\n",
      "    tol=0.001, verbose=False)]\n",
      "[0.8924, 0.9287, 0.9052]\n"
     ]
    }
   ],
   "source": [
    "ls = []\n",
    "i = 1E-8\n",
    "while i<0.0001:\n",
    "    ls = ls + [i]\n",
    "    i = i*100\n",
    "model_ls = [svm.SVC(kernel='linear',gamma='auto',cache_size=3000,C=i) for i in ls]\n",
    "print(model_ls)\n",
    "accuracy_ls = [get_accuracy(i,10000,nmist_training_set_sample,nmist_training_set_label,nmist_validation_set_sample,\\\n",
    "                             nmist_validation_set_label) for i in model_ls]\n",
    "print(accuracy_ls)"
   ]
  },
  {
   "cell_type": "code",
   "execution_count": 35,
   "metadata": {},
   "outputs": [
    {
     "name": "stdout",
     "output_type": "stream",
     "text": [
      "[SVC(C=5e-05, cache_size=3000, class_weight=None, coef0=0.0,\n",
      "    decision_function_shape='ovr', degree=3, gamma='auto', kernel='linear',\n",
      "    max_iter=-1, probability=False, random_state=None, shrinking=True,\n",
      "    tol=0.001, verbose=False), SVC(C=3e-06, cache_size=3000, class_weight=None, coef0=0.0,\n",
      "    decision_function_shape='ovr', degree=3, gamma='auto', kernel='linear',\n",
      "    max_iter=-1, probability=False, random_state=None, shrinking=True,\n",
      "    tol=0.001, verbose=False), SVC(C=8e-06, cache_size=3000, class_weight=None, coef0=0.0,\n",
      "    decision_function_shape='ovr', degree=3, gamma='auto', kernel='linear',\n",
      "    max_iter=-1, probability=False, random_state=None, shrinking=True,\n",
      "    tol=0.001, verbose=False)]\n",
      "[0.9069, 0.9221, 0.9139]\n"
     ]
    }
   ],
   "source": [
    "ls = [5e-05,3e-06,8e-06]\n",
    "model_ls = [svm.SVC(kernel='linear',gamma='auto',cache_size=3000,C=i) for i in ls]\n",
    "print(model_ls)\n",
    "accuracy_ls = [get_accuracy(i,10000,nmist_training_set_sample,nmist_training_set_label,nmist_validation_set_sample,\\\n",
    "                             nmist_validation_set_label) for i in model_ls]\n",
    "print(accuracy_ls)"
   ]
  },
  {
   "cell_type": "code",
   "execution_count": 36,
   "metadata": {},
   "outputs": [
    {
     "name": "stdout",
     "output_type": "stream",
     "text": [
      "[SVC(C=9e-06, cache_size=3000, class_weight=None, coef0=0.0,\n",
      "    decision_function_shape='ovr', degree=3, gamma='auto', kernel='linear',\n",
      "    max_iter=-1, probability=False, random_state=None, shrinking=True,\n",
      "    tol=0.001, verbose=False), SVC(C=1.1e-06, cache_size=3000, class_weight=None, coef0=0.0,\n",
      "    decision_function_shape='ovr', degree=3, gamma='auto', kernel='linear',\n",
      "    max_iter=-1, probability=False, random_state=None, shrinking=True,\n",
      "    tol=0.001, verbose=False), SVC(C=1.2e-06, cache_size=3000, class_weight=None, coef0=0.0,\n",
      "    decision_function_shape='ovr', degree=3, gamma='auto', kernel='linear',\n",
      "    max_iter=-1, probability=False, random_state=None, shrinking=True,\n",
      "    tol=0.001, verbose=False)]\n",
      "[0.9136, 0.9284, 0.9281]\n"
     ]
    }
   ],
   "source": [
    "ls = [0.9e-05,1.1e-06,1.2e-06]\n",
    "model_ls = [svm.SVC(kernel='linear',gamma='auto',cache_size=3000,C=i) for i in ls]\n",
    "print(model_ls)\n",
    "accuracy_ls = [get_accuracy(i,10000,nmist_training_set_sample,nmist_training_set_label,nmist_validation_set_sample,\\\n",
    "                             nmist_validation_set_label) for i in model_ls]\n",
    "print(accuracy_ls)"
   ]
  },
  {
   "cell_type": "code",
   "execution_count": 56,
   "metadata": {},
   "outputs": [
    {
     "name": "stdout",
     "output_type": "stream",
     "text": [
      "(4138, 32) (4138,)\n"
     ]
    }
   ],
   "source": [
    "def K_fold_partition(dataset,k):\n",
    "    np.random.shuffle(dataset)\n",
    "    part = int(len(dataset)/k)\n",
    "    ls = []\n",
    "    #three-way partition\n",
    "    for i in range(k):\n",
    "        left = dataset[0:part*i,]\n",
    "        validation = dataset[part*i : part*(i+1),]\n",
    "        right = dataset[part*(i+1):len(dataset),]\n",
    "        training = np.concatenate((left,right),axis=0)\n",
    "        ls.append((training[:,:-1],training[:,-1:].ravel(),validation[:,:-1],validation[:,-1:].ravel()))\n",
    "    return ls\n",
    "ls = K_fold_partition(spam_dataset,5)\n",
    "print(ls[0][0].shape,ls[0][1].shape)"
   ]
  },
  {
   "cell_type": "code",
   "execution_count": 58,
   "metadata": {},
   "outputs": [
    {
     "name": "stdout",
     "output_type": "stream",
     "text": [
      "0.7504835589941973\n"
     ]
    }
   ],
   "source": [
    "model = svm.SVC(kernel='poly',gamma='auto',cache_size=3000,C=1)\n",
    "i = K_fold_partition(spam_dataset,5)[0]\n",
    "print(get_accuracy(model,len(i[0]),i[0],i[1],i[2],\\\n",
    "                             i[3]))"
   ]
  },
  {
   "cell_type": "code",
   "execution_count": 64,
   "metadata": {},
   "outputs": [
    {
     "data": {
      "text/plain": [
       "0.7522243713733076"
      ]
     },
     "execution_count": 64,
     "metadata": {},
     "output_type": "execute_result"
    }
   ],
   "source": [
    "model = svm.SVC(kernel='poly',gamma='auto',cache_size=3000,C=1)\n",
    "def K_fold_validation(model,k):\n",
    "    accuracy_ls = [get_accuracy(model,len(i[0]),i[0],i[1],i[2],\\\n",
    "                             i[3]) for i in K_fold_partition(spam_dataset,k)]\n",
    "    return np.mean(accuracy_ls)\n",
    "K_fold_validation(model,5)"
   ]
  },
  {
   "cell_type": "code",
   "execution_count": null,
   "metadata": {},
   "outputs": [],
   "source": [
    "step_ls = []\n",
    "i = 1E-9\n",
    "while i<1E3:\n",
    "    step_ls = step_ls + [i]\n",
    "    i = i*1000\n",
    "model_ls = [svm.SVC(kernel='poly',gamma='auto',cache_size=3000,C=i) for i in step_ls]\n",
    "print(model_ls)\n",
    "accuracy = [K_fold_validation(model,5) for model in model_ls]\n",
    "print(accuracy)"
   ]
  },
  {
   "cell_type": "code",
   "execution_count": null,
   "metadata": {},
   "outputs": [],
   "source": []
  },
  {
   "cell_type": "code",
   "execution_count": null,
   "metadata": {},
   "outputs": [],
   "source": []
  }
 ],
 "metadata": {
  "kernelspec": {
   "display_name": "Python 3",
   "language": "python",
   "name": "python3"
  },
  "language_info": {
   "codemirror_mode": {
    "name": "ipython",
    "version": 3
   },
   "file_extension": ".py",
   "mimetype": "text/x-python",
   "name": "python",
   "nbconvert_exporter": "python",
   "pygments_lexer": "ipython3",
   "version": "3.7.3"
  }
 },
 "nbformat": 4,
 "nbformat_minor": 2
}
